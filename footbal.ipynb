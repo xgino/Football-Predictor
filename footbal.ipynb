{
 "cells": [
  {
   "cell_type": "code",
   "execution_count": 25,
   "metadata": {},
   "outputs": [],
   "source": [
    "import math\n",
    "import pandas as pd"
   ]
  },
  {
   "cell_type": "code",
   "execution_count": 13,
   "metadata": {},
   "outputs": [
    {
     "name": "stdout",
     "output_type": "stream",
     "text": [
      "{'Team A': {'multiplier': 1.29, 'Win Chance': 0.7422775472568003}, 'Draw': {'multiplier': 10.5, 'Win Chance': 0.09119409866297833}, 'Team B': {'multiplier': 5.75, 'Win Chance': 0.1665283540802213}}\n"
     ]
    }
   ],
   "source": [
    "def calculate_chances(multiplier_A, multiplier_Draw, multiplier_B):\n",
    "    total_probability = multiplier_A + multiplier_B + multiplier_Draw\n",
    "\n",
    "    percentage_A = (1 / multiplier_A) / (1 / multiplier_A + 1 / multiplier_B + 1 / multiplier_Draw)\n",
    "    percentage_B = (1 / multiplier_B) / (1 / multiplier_A + 1 / multiplier_B + 1 / multiplier_Draw)\n",
    "    percentage_Draw = (1 / multiplier_Draw) / (1 / multiplier_A + 1 / multiplier_B + 1 / multiplier_Draw)\n",
    "\n",
    "    return {\n",
    "        \"Team A\": {\"multiplier\": multiplier_A, \"Win Chance\": percentage_A},\n",
    "        \"Draw\": {\"multiplier\": multiplier_Draw, \"Win Chance\": percentage_Draw},\n",
    "        \"Team B\": {\"multiplier\": multiplier_B, \"Win Chance\": percentage_B}\n",
    "    }\n",
    "\n",
    "multiplier_A = 1.29\n",
    "multiplier_Draw = 10.50\n",
    "multiplier_B = 5.75\n",
    "\n",
    "chances = calculate_chances(multiplier_A, multiplier_Draw, multiplier_B)\n",
    "print(chances)"
   ]
  },
  {
   "cell_type": "code",
   "execution_count": 15,
   "metadata": {},
   "outputs": [
    {
     "name": "stdout",
     "output_type": "stream",
     "text": [
      "Highest two chances: {'Team A': {'multiplier': 1.29, 'Win Chance': 0.7422775472568003}, 'Team B': {'multiplier': 5.75, 'Win Chance': 0.1665283540802213}}\n",
      "Adjusted percentages for betting: {'Team A': {'multiplier': 1.29, 'Win Chance': 81.67613636363636}, 'Team B': {'multiplier': 5.75, 'Win Chance': 18.323863636363637}}\n"
     ]
    }
   ],
   "source": [
    "def find_highest_two(chances):\n",
    "    sorted_chances = sorted(chances.items(), key=lambda x: x[1][\"Win Chance\"], reverse=True)\n",
    "    highest_two = sorted_chances[:2]\n",
    "    return dict(highest_two)\n",
    "\n",
    "def adjust_percentages(highest_two):\n",
    "    total_percentage = sum(pair[1][\"Win Chance\"] for pair in highest_two.items())\n",
    "    adjusted_percentages = {key: {\"multiplier\": value[\"multiplier\"], \"Win Chance\": value[\"Win Chance\"] / total_percentage * 100} for key, value in highest_two.items()}\n",
    "    return adjusted_percentages\n",
    "\n",
    "highest_two = find_highest_two(chances)\n",
    "print(\"Highest two chances:\", highest_two)\n",
    "\n",
    "adjusted_percentages = adjust_percentages(highest_two)\n",
    "print(\"Adjusted percentages for betting:\", adjusted_percentages)"
   ]
  },
  {
   "cell_type": "code",
   "execution_count": 17,
   "metadata": {},
   "outputs": [
    {
     "name": "stdout",
     "output_type": "stream",
     "text": [
      "Team A Team B\n"
     ]
    }
   ],
   "source": [
    "adjusted_percentages"
   ]
  },
  {
   "cell_type": "code",
   "execution_count": 18,
   "metadata": {},
   "outputs": [],
   "source": [
    "def calculate_bet_amounts(highest_two, bet_price):\n",
    "    total_percentage = sum(info[\"Win Chance\"] for info in highest_two.values())\n",
    "    bet_amounts = {team: (info[\"Win Chance\"] / total_percentage) * bet_price for team, info in highest_two.items()}\n",
    "    return bet_amounts\n",
    "\n",
    "def calculate_gains(highest_two, total_bet_amount):\n",
    "    gains = {team: total_bet_amount * info[\"multiplier\"] for team, info in highest_two.items()}\n",
    "    return gains\n",
    "\n",
    "def find_highest_two(chances):\n",
    "    sorted_chances = sorted(chances.items(), key=lambda x: x[1][\"Win Chance\"], reverse=True)\n",
    "    highest_two = dict(sorted_chances[:2])\n",
    "    return highest_two"
   ]
  },
  {
   "cell_type": "code",
   "execution_count": 19,
   "metadata": {},
   "outputs": [
    {
     "name": "stdout",
     "output_type": "stream",
     "text": [
      "Highest two chances: {'Team A': {'multiplier': 1.29, 'Win Chance': 81.67613636363636}, 'Team B': {'multiplier': 5.75, 'Win Chance': 18.323863636363637}}\n",
      "Bet Amounts: {'Team A': 40.83806818181818, 'Team B': 9.161931818181818}\n",
      "Total Bet: 50.0\n",
      "Potential Gains: {'Team A': 64.5, 'Team B': 287.5}\n"
     ]
    }
   ],
   "source": [
    "bet_price = 50\n",
    "\n",
    "highest_two = find_highest_two(adjusted_percentages)\n",
    "print(\"Highest two chances:\", highest_two)\n",
    "\n",
    "bet_amounts = calculate_bet_amounts(highest_two, bet_price)\n",
    "print(\"Bet Amounts:\", bet_amounts)\n",
    "\n",
    "total_bet_amount = sum(bet_amounts.values())\n",
    "print(\"Total Bet:\", total_bet_amount)\n",
    "\n",
    "gains = calculate_gains(highest_two, total_bet_amount)\n",
    "print(\"Potential Gains:\", gains)"
   ]
  },
  {
   "cell_type": "code",
   "execution_count": 28,
   "metadata": {},
   "outputs": [],
   "source": [
    "def calculate_bet_stats(multiplier_A, multiplier_Draw, multiplier_B, bet_price, name_A=\"Team A\", name_B=\"Team B\"):\n",
    "    total_probability = multiplier_A + multiplier_B + multiplier_Draw\n",
    "\n",
    "    # Calculate win chances\n",
    "    win_chance_A = (1 / multiplier_A) / total_probability\n",
    "    win_chance_Draw = (1 / multiplier_Draw) / total_probability\n",
    "    win_chance_B = (1 / multiplier_B) / total_probability\n",
    "\n",
    "    # Calculate adjusted percentages\n",
    "    adjusted_percentages = {\n",
    "        name_A: {\"multiplier\": multiplier_A, \"Win Chance\": win_chance_A * 100},\n",
    "        \"Draw\": {\"multiplier\": multiplier_Draw, \"Win Chance\": win_chance_Draw * 100},\n",
    "        name_B: {\"multiplier\": multiplier_B, \"Win Chance\": win_chance_B * 100}\n",
    "    }\n",
    "\n",
    "    # Find the highest two chances\n",
    "    sorted_chances = sorted(adjusted_percentages.items(), key=lambda x: x[1][\"Win Chance\"], reverse=True)\n",
    "    highest_two = dict(sorted_chances[:2])\n",
    "\n",
    "    # Calculate bet amounts\n",
    "    total_percentage = sum(info[\"Win Chance\"] for info in highest_two.values())\n",
    "    bet_amounts = {team: math.ceil((info[\"Win Chance\"] / total_percentage) * bet_price) for team, info in highest_two.items()}\n",
    "\n",
    "    # Calculate potential gains\n",
    "    total_bet_amount = sum(bet_amounts.values())\n",
    "    gains = {team: total_bet_amount * info[\"multiplier\"] for team, info in highest_two.items()}\n",
    "\n",
    "    # Calculate net win after deducting total bet amount\n",
    "    net_wins = {team: gain - total_bet_amount for team, gain in gains.items()}\n",
    "\n",
    "    # Create DataFrame\n",
    "    df = pd.DataFrame.from_dict(adjusted_percentages, orient='index')\n",
    "    df['Bet Amount'] = df.index.map(bet_amounts)\n",
    "    df['Potential Gain'] = df.index.map(gains)\n",
    "    df['Net Win'] = df['Potential Gain'] - total_bet_amount\n",
    "\n",
    "    return df\n",
    "\n"
   ]
  },
  {
   "cell_type": "code",
   "execution_count": 29,
   "metadata": {},
   "outputs": [
    {
     "data": {
      "text/html": [
       "<div>\n",
       "<style scoped>\n",
       "    .dataframe tbody tr th:only-of-type {\n",
       "        vertical-align: middle;\n",
       "    }\n",
       "\n",
       "    .dataframe tbody tr th {\n",
       "        vertical-align: top;\n",
       "    }\n",
       "\n",
       "    .dataframe thead th {\n",
       "        text-align: right;\n",
       "    }\n",
       "</style>\n",
       "<table border=\"1\" class=\"dataframe\">\n",
       "  <thead>\n",
       "    <tr style=\"text-align: right;\">\n",
       "      <th></th>\n",
       "      <th>multiplier</th>\n",
       "      <th>Win Chance</th>\n",
       "      <th>Bet Amount</th>\n",
       "      <th>Potential Gain</th>\n",
       "      <th>Net Win</th>\n",
       "    </tr>\n",
       "  </thead>\n",
       "  <tbody>\n",
       "    <tr>\n",
       "      <th>Manchester United</th>\n",
       "      <td>1.29</td>\n",
       "      <td>4.419577</td>\n",
       "      <td>41.0</td>\n",
       "      <td>65.79</td>\n",
       "      <td>14.79</td>\n",
       "    </tr>\n",
       "    <tr>\n",
       "      <th>Draw</th>\n",
       "      <td>10.50</td>\n",
       "      <td>0.542977</td>\n",
       "      <td>NaN</td>\n",
       "      <td>NaN</td>\n",
       "      <td>NaN</td>\n",
       "    </tr>\n",
       "    <tr>\n",
       "      <th>Liverpool</th>\n",
       "      <td>5.75</td>\n",
       "      <td>0.991522</td>\n",
       "      <td>10.0</td>\n",
       "      <td>293.25</td>\n",
       "      <td>242.25</td>\n",
       "    </tr>\n",
       "  </tbody>\n",
       "</table>\n",
       "</div>"
      ],
      "text/plain": [
       "                   multiplier  Win Chance  Bet Amount  Potential Gain  Net Win\n",
       "Manchester United        1.29    4.419577        41.0           65.79    14.79\n",
       "Draw                    10.50    0.542977         NaN             NaN      NaN\n",
       "Liverpool                5.75    0.991522        10.0          293.25   242.25"
      ]
     },
     "execution_count": 29,
     "metadata": {},
     "output_type": "execute_result"
    }
   ],
   "source": [
    "# Test the function\n",
    "team_A_name = \"Duitsland\"\n",
    "multiplier_A = 1.29\n",
    "\n",
    "multiplier_Draw = 5.75\n",
    "\n",
    "team_B_name = \"Schotland\"\n",
    "multiplier_B = 10.5\n",
    "\n",
    "bet_price = 50\n",
    "bet_stats_df = calculate_bet_stats(multiplier_A, multiplier_Draw, multiplier_B, bet_price, team_A_name, team_B_name)\n",
    "bet_stats_df"
   ]
  },
  {
   "cell_type": "code",
   "execution_count": 30,
   "metadata": {},
   "outputs": [
    {
     "data": {
      "text/html": [
       "<div>\n",
       "<style scoped>\n",
       "    .dataframe tbody tr th:only-of-type {\n",
       "        vertical-align: middle;\n",
       "    }\n",
       "\n",
       "    .dataframe tbody tr th {\n",
       "        vertical-align: top;\n",
       "    }\n",
       "\n",
       "    .dataframe thead th {\n",
       "        text-align: right;\n",
       "    }\n",
       "</style>\n",
       "<table border=\"1\" class=\"dataframe\">\n",
       "  <thead>\n",
       "    <tr style=\"text-align: right;\">\n",
       "      <th></th>\n",
       "      <th>multiplier</th>\n",
       "      <th>Win Chance</th>\n",
       "      <th>Bet Amount</th>\n",
       "      <th>Potential Gain</th>\n",
       "      <th>Net Win</th>\n",
       "    </tr>\n",
       "  </thead>\n",
       "  <tbody>\n",
       "    <tr>\n",
       "      <th>Hongarije</th>\n",
       "      <td>3.40</td>\n",
       "      <td>3.246332</td>\n",
       "      <td>20.0</td>\n",
       "      <td>173.40</td>\n",
       "      <td>122.40</td>\n",
       "    </tr>\n",
       "    <tr>\n",
       "      <th>Draw</th>\n",
       "      <td>3.40</td>\n",
       "      <td>3.246332</td>\n",
       "      <td>NaN</td>\n",
       "      <td>NaN</td>\n",
       "      <td>NaN</td>\n",
       "    </tr>\n",
       "    <tr>\n",
       "      <th>Zwitserland</th>\n",
       "      <td>2.26</td>\n",
       "      <td>4.883862</td>\n",
       "      <td>31.0</td>\n",
       "      <td>115.26</td>\n",
       "      <td>64.26</td>\n",
       "    </tr>\n",
       "  </tbody>\n",
       "</table>\n",
       "</div>"
      ],
      "text/plain": [
       "             multiplier  Win Chance  Bet Amount  Potential Gain  Net Win\n",
       "Hongarije          3.40    3.246332        20.0          173.40   122.40\n",
       "Draw               3.40    3.246332         NaN             NaN      NaN\n",
       "Zwitserland        2.26    4.883862        31.0          115.26    64.26"
      ]
     },
     "execution_count": 30,
     "metadata": {},
     "output_type": "execute_result"
    }
   ],
   "source": [
    "# Test the function\n",
    "team_A_name = \"Hongarije\"\n",
    "multiplier_A = 3.4\n",
    "\n",
    "multiplier_Draw = 3.4\n",
    "\n",
    "team_B_name = \"Zwitserland\"\n",
    "multiplier_B = 2.26\n",
    "\n",
    "bet_price = 50\n",
    "bet_stats_df = calculate_bet_stats(multiplier_A, multiplier_Draw, multiplier_B, bet_price, team_A_name, team_B_name)\n",
    "bet_stats_df"
   ]
  },
  {
   "cell_type": "code",
   "execution_count": 31,
   "metadata": {},
   "outputs": [
    {
     "data": {
      "text/html": [
       "<div>\n",
       "<style scoped>\n",
       "    .dataframe tbody tr th:only-of-type {\n",
       "        vertical-align: middle;\n",
       "    }\n",
       "\n",
       "    .dataframe tbody tr th {\n",
       "        vertical-align: top;\n",
       "    }\n",
       "\n",
       "    .dataframe thead th {\n",
       "        text-align: right;\n",
       "    }\n",
       "</style>\n",
       "<table border=\"1\" class=\"dataframe\">\n",
       "  <thead>\n",
       "    <tr style=\"text-align: right;\">\n",
       "      <th></th>\n",
       "      <th>multiplier</th>\n",
       "      <th>Win Chance</th>\n",
       "      <th>Bet Amount</th>\n",
       "      <th>Potential Gain</th>\n",
       "      <th>Net Win</th>\n",
       "    </tr>\n",
       "  </thead>\n",
       "  <tbody>\n",
       "    <tr>\n",
       "      <th>Spanje</th>\n",
       "      <td>2.02</td>\n",
       "      <td>5.146045</td>\n",
       "      <td>32.0</td>\n",
       "      <td>103.02</td>\n",
       "      <td>52.02</td>\n",
       "    </tr>\n",
       "    <tr>\n",
       "      <th>Draw</th>\n",
       "      <td>3.35</td>\n",
       "      <td>3.102988</td>\n",
       "      <td>19.0</td>\n",
       "      <td>170.85</td>\n",
       "      <td>119.85</td>\n",
       "    </tr>\n",
       "    <tr>\n",
       "      <th>Croatie</th>\n",
       "      <td>4.25</td>\n",
       "      <td>2.445885</td>\n",
       "      <td>NaN</td>\n",
       "      <td>NaN</td>\n",
       "      <td>NaN</td>\n",
       "    </tr>\n",
       "  </tbody>\n",
       "</table>\n",
       "</div>"
      ],
      "text/plain": [
       "         multiplier  Win Chance  Bet Amount  Potential Gain  Net Win\n",
       "Spanje         2.02    5.146045        32.0          103.02    52.02\n",
       "Draw           3.35    3.102988        19.0          170.85   119.85\n",
       "Croatie        4.25    2.445885         NaN             NaN      NaN"
      ]
     },
     "execution_count": 31,
     "metadata": {},
     "output_type": "execute_result"
    }
   ],
   "source": [
    "# Test the function\n",
    "team_A_name = \"Spanje\"\n",
    "multiplier_A = 2.02\n",
    "\n",
    "multiplier_Draw = 3.35\n",
    "\n",
    "team_B_name = \"Croatie\"\n",
    "multiplier_B = 4.25\n",
    "\n",
    "bet_price = 50\n",
    "bet_stats_df = calculate_bet_stats(multiplier_A, multiplier_Draw, multiplier_B, bet_price, team_A_name, team_B_name)\n",
    "bet_stats_df"
   ]
  },
  {
   "cell_type": "code",
   "execution_count": 32,
   "metadata": {},
   "outputs": [
    {
     "data": {
      "text/html": [
       "<div>\n",
       "<style scoped>\n",
       "    .dataframe tbody tr th:only-of-type {\n",
       "        vertical-align: middle;\n",
       "    }\n",
       "\n",
       "    .dataframe tbody tr th {\n",
       "        vertical-align: top;\n",
       "    }\n",
       "\n",
       "    .dataframe thead th {\n",
       "        text-align: right;\n",
       "    }\n",
       "</style>\n",
       "<table border=\"1\" class=\"dataframe\">\n",
       "  <thead>\n",
       "    <tr style=\"text-align: right;\">\n",
       "      <th></th>\n",
       "      <th>multiplier</th>\n",
       "      <th>Win Chance</th>\n",
       "      <th>Bet Amount</th>\n",
       "      <th>Potential Gain</th>\n",
       "      <th>Net Win</th>\n",
       "    </tr>\n",
       "  </thead>\n",
       "  <tbody>\n",
       "    <tr>\n",
       "      <th>Italie</th>\n",
       "      <td>1.40</td>\n",
       "      <td>4.875670</td>\n",
       "      <td>39.0</td>\n",
       "      <td>71.4</td>\n",
       "      <td>20.4</td>\n",
       "    </tr>\n",
       "    <tr>\n",
       "      <th>Draw</th>\n",
       "      <td>4.50</td>\n",
       "      <td>1.516875</td>\n",
       "      <td>12.0</td>\n",
       "      <td>229.5</td>\n",
       "      <td>178.5</td>\n",
       "    </tr>\n",
       "    <tr>\n",
       "      <th>Albanie</th>\n",
       "      <td>8.75</td>\n",
       "      <td>0.780107</td>\n",
       "      <td>NaN</td>\n",
       "      <td>NaN</td>\n",
       "      <td>NaN</td>\n",
       "    </tr>\n",
       "  </tbody>\n",
       "</table>\n",
       "</div>"
      ],
      "text/plain": [
       "         multiplier  Win Chance  Bet Amount  Potential Gain  Net Win\n",
       "Italie         1.40    4.875670        39.0            71.4     20.4\n",
       "Draw           4.50    1.516875        12.0           229.5    178.5\n",
       "Albanie        8.75    0.780107         NaN             NaN      NaN"
      ]
     },
     "execution_count": 32,
     "metadata": {},
     "output_type": "execute_result"
    }
   ],
   "source": [
    "# Test the function\n",
    "team_A_name = \"Italie\"\n",
    "multiplier_A = 1.4\n",
    "\n",
    "multiplier_Draw = 4.5\n",
    "\n",
    "team_B_name = \"Albanie\"\n",
    "multiplier_B = 8.75\n",
    "\n",
    "bet_price = 50\n",
    "bet_stats_df = calculate_bet_stats(multiplier_A, multiplier_Draw, multiplier_B, bet_price, team_A_name, team_B_name)\n",
    "bet_stats_df"
   ]
  },
  {
   "cell_type": "code",
   "execution_count": null,
   "metadata": {},
   "outputs": [],
   "source": []
  }
 ],
 "metadata": {
  "kernelspec": {
   "display_name": "base",
   "language": "python",
   "name": "python3"
  },
  "language_info": {
   "codemirror_mode": {
    "name": "ipython",
    "version": 3
   },
   "file_extension": ".py",
   "mimetype": "text/x-python",
   "name": "python",
   "nbconvert_exporter": "python",
   "pygments_lexer": "ipython3",
   "version": "3.11.5"
  }
 },
 "nbformat": 4,
 "nbformat_minor": 2
}
